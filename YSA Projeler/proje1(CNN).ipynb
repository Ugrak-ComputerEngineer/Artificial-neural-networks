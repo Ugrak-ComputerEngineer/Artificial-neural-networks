{
  "nbformat": 4,
  "nbformat_minor": 0,
  "metadata": {
    "colab": {
      "name": "proje1(CNN).ipynb",
      "version": "0.3.2",
      "views": {},
      "default_view": {},
      "provenance": [],
      "collapsed_sections": []
    },
    "kernelspec": {
      "name": "python2",
      "display_name": "Python 2"
    }
  },
  "cells": [
    {
      "metadata": {
        "id": "7eXKGpbezJFN",
        "colab_type": "code",
        "colab": {
          "autoexec": {
            "startup": false,
            "wait_interval": 0
          },
          "base_uri": "https://localhost:8080/",
          "height": 272
        },
        "outputId": "2e024926-ccbb-49a2-d223-0276405811dd",
        "executionInfo": {
          "status": "ok",
          "timestamp": 1527801413046,
          "user_tz": -180,
          "elapsed": 340255,
          "user": {
            "displayName": "Uğur AKDAĞ",
            "photoUrl": "//lh4.googleusercontent.com/-tBciN_Wozpo/AAAAAAAAAAI/AAAAAAAAAa8/DTfqZtvLGLk/s50-c-k-no/photo.jpg",
            "userId": "113511653702105677446"
          }
        }
      },
      "cell_type": "code",
      "source": [
        "# Türkçe olan kısımları ben ekledim, diğer her şey kaynaktan alınmıştır.\n",
        "'''Trains a simple convnet on the MNIST dataset.\n",
        " \n",
        "Gets to 99.25% test accuracy after 12 epochs\n",
        "(there is still a lot of margin for parameter tuning).\n",
        "16 seconds per epoch on a GRID K520 GPU.\n",
        "'''\n",
        " \n",
        "from __future__ import print_function\n",
        "import keras\n",
        "# MNIST verisini ayrıca indirmemize gerek yok\n",
        "# Keras sayesinde bu şekilde kolayca alabiliriz\n",
        "from keras.datasets import mnist\n",
        "from keras.models import Sequential\n",
        "from keras.layers import Dense, Dropout, Flatten\n",
        "from keras.layers import Conv2D, MaxPooling2D\n",
        "from keras import backend as K\n",
        " \n",
        "# Tek seferde ne kadar verimizin ağdan geçeğini belirtir\n",
        "# RAMimiz yüksekse yüksek tutmakta fayda var, daha hızlı öğrenme sağlar\n",
        "batch_size = 128\n",
        " \n",
        "# Verimizin kaç sınıfa ayrıldığı \n",
        "# Mnist için sıfırdan dokuza kadar 10 veri sınıfımız var\n",
        "num_classes = 10\n",
        " \n",
        "# Verimiz yapay sinir ağı üzerinden kaç kez geçecek.\n",
        "# Kaynakta 12 epoch olarak verilmiş fakat hızlı olması için 2 epochda bitiriyorum\n",
        "epochs = 2\n",
        " \n",
        "# input image dimensions\n",
        "img_rows, img_cols = 28, 28\n",
        " \n",
        "# Veri 4 parçaya bölünmüş olarak ve \n",
        "# Her bir görsel için 28x28 boyutunda bir matris olarak verimizi alabiliriz\n",
        "# the data, shuffled and split between train and test sets\n",
        "(x_train, y_train), (x_test, y_test) = mnist.load_data()\n",
        " \n",
        "# Veriyi channel bilgisine göre tekrar düzenliyoruz.\n",
        "# Tensorflow ve Theano farklı veri şekilleri ile çalışıyorlar \n",
        "if K.image_data_format() == 'channels_first':\n",
        "    x_train = x_train.reshape(x_train.shape[0], 1, img_rows, img_cols)\n",
        "    x_test = x_test.reshape(x_test.shape[0], 1, img_rows, img_cols)\n",
        "    input_shape = (1, img_rows, img_cols)\n",
        "else:\n",
        "    x_train = x_train.reshape(x_train.shape[0], img_rows, img_cols, 1)\n",
        "    x_test = x_test.reshape(x_test.shape[0], img_rows, img_cols, 1)\n",
        "    input_shape = (img_rows, img_cols, 1)\n",
        " \n",
        "x_train = x_train.astype('float32')\n",
        "x_test = x_test.astype('float32')\n",
        "x_train /= 255\n",
        "x_test /= 255\n",
        "print('x_train shape:', x_train.shape)\n",
        "print(x_train.shape[0], 'train samples')\n",
        "print(x_test.shape[0], 'test samples')\n",
        " \n",
        "# y değerlerimiz x verimizin hangi rakama yani hangi sınıfa ait olduğunu tutan rakamlardı\n",
        "# Yani y verilerimizin birinci boyutu x içerisindeki indexe karşılık gelirken\n",
        "# ikinci boyutu 0 indexi alabiliyor ve y, 0-9 aralığında tek değer alabiliyordu\n",
        "# Burada to_categorical metodu ile verimizin ikinci boyutunu sıfır ve birlerden oluşan\n",
        "# 10 değer alabilecek şekilde genişletiyoruz.\n",
        "# Örneğin bir verimizin y değeri 8 ise, yeni şekliyle 9 adet sıfır ve \n",
        "# yedinci(indexler sıfırdan başladığı için sekizinci değil) indexi 1 olacak hale getiriyoruz\n",
        " \n",
        "# convert class vectors to binary class matrices\n",
        "y_train = keras.utils.to_categorical(y_train, num_classes)\n",
        "y_test = keras.utils.to_categorical(y_test, num_classes)\n",
        " \n",
        "# Keras Sequential sınıfı Yapay sinir ağımızın temelidir\n",
        "# Bu sınıfa istediğimiz kadar katman ekleyerek tüm ağı oluşturabiliriz\n",
        "# Hangi katmanı ne zaman eklenmesi gerektiği ile ilgili, \n",
        "# en az kayıp vereni bulana kadar deneme-yanılma yapılır\n",
        " \n",
        "model = Sequential()\n",
        " \n",
        "# Buradaki adımları aşağıda açıklamaya çalıştım\n",
        "model.add(Conv2D(32, kernel_size=(3, 3),\n",
        "                 activation='relu',\n",
        "                 input_shape=input_shape))\n",
        "model.add(Conv2D(64, (3, 3), activation='relu'))\n",
        "model.add(MaxPooling2D(pool_size=(2, 2)))\n",
        "model.add(Dropout(0.25))\n",
        "model.add(Flatten())\n",
        "model.add(Dense(128, activation='relu'))\n",
        "model.add(Dropout(0.5))\n",
        "model.add(Dense(num_classes, activation='softmax'))\n",
        " \n",
        "model.compile(loss=keras.losses.categorical_crossentropy,\n",
        "              optimizer=keras.optimizers.Adadelta(),\n",
        "              metrics=['accuracy'])\n",
        " \n",
        "model.fit(x_train, y_train,\n",
        "          batch_size=batch_size,\n",
        "          epochs=epochs,\n",
        "          verbose=1,\n",
        "          validation_data=(x_test, y_test))\n",
        "score = model.evaluate(x_test, y_test, verbose=0)\n",
        "print('Test loss:', score[0])\n",
        "print('Test accuracy:', score[1])"
      ],
      "execution_count": 2,
      "outputs": [
        {
          "output_type": "stream",
          "text": [
            "Using TensorFlow backend.\n"
          ],
          "name": "stderr"
        },
        {
          "output_type": "stream",
          "text": [
            "Downloading data from https://s3.amazonaws.com/img-datasets/mnist.npz\n",
            "11493376/11490434 [==============================] - 3s 0us/step\n",
            "11501568/11490434 [==============================] - 3s 0us/step\n",
            "x_train shape: (60000, 28, 28, 1)\n",
            "60000 train samples\n",
            "10000 test samples\n",
            "Train on 60000 samples, validate on 10000 samples\n",
            "Epoch 1/2\n",
            "28416/60000 [=============>................] - ETA: 1:22 - loss: 0.4116 - acc: 0.8714"
          ],
          "name": "stdout"
        },
        {
          "output_type": "stream",
          "text": [
            "60000/60000 [==============================] - 163s 3ms/step - loss: 0.2664 - acc: 0.9181 - val_loss: 0.0585 - val_acc: 0.9819\n",
            "Epoch 2/2\n",
            "45440/60000 [=====================>........] - ETA: 38s - loss: 0.0930 - acc: 0.9719"
          ],
          "name": "stdout"
        },
        {
          "output_type": "stream",
          "text": [
            "60000/60000 [==============================] - 164s 3ms/step - loss: 0.0909 - acc: 0.9727 - val_loss: 0.0405 - val_acc: 0.9867\n",
            "Test loss: 0.04045355330412276\n",
            "Test accuracy: 0.9867\n"
          ],
          "name": "stdout"
        }
      ]
    },
    {
      "metadata": {
        "id": "snhWMdyZ0yO-",
        "colab_type": "text"
      },
      "cell_type": "markdown",
      "source": [
        ""
      ]
    },
    {
      "metadata": {
        "id": "ambXmaXI000O",
        "colab_type": "code",
        "colab": {
          "autoexec": {
            "startup": false,
            "wait_interval": 0
          },
          "base_uri": "https://localhost:8080/",
          "height": 550
        },
        "outputId": "a5b1337a-f555-4a4e-a2e1-b44624b5c68f",
        "executionInfo": {
          "status": "error",
          "timestamp": 1527802178995,
          "user_tz": -180,
          "elapsed": 6993,
          "user": {
            "displayName": "Uğur AKDAĞ",
            "photoUrl": "//lh4.googleusercontent.com/-tBciN_Wozpo/AAAAAAAAAAI/AAAAAAAAAa8/DTfqZtvLGLk/s50-c-k-no/photo.jpg",
            "userId": "113511653702105677446"
          }
        }
      },
      "cell_type": "code",
      "source": [
        "import numpy as np\n",
        "import matplotlib.pyplot as plt\n",
        "\n",
        "testVerisiTahminler = model.predict(x_test)\n",
        "idx = 800\n",
        "plt.matshow(np.reshape(x_test[idx], (28, 28)))\n",
        "\n",
        "print(\"CNN sonucu: %d\" % testVerisiTahminler[idx])\n",
        "print(\"Beklenen: %d\" % y_test[idx])"
      ],
      "execution_count": 5,
      "outputs": [
        {
          "output_type": "error",
          "ename": "TypeError",
          "evalue": "ignored",
          "traceback": [
            "\u001b[0;31m\u001b[0m",
            "\u001b[0;31mTypeError\u001b[0mTraceback (most recent call last)",
            "\u001b[0;32m<ipython-input-5-0fe1b3e9c57f>\u001b[0m in \u001b[0;36m<module>\u001b[0;34m()\u001b[0m\n\u001b[1;32m      6\u001b[0m \u001b[0mplt\u001b[0m\u001b[0;34m.\u001b[0m\u001b[0mmatshow\u001b[0m\u001b[0;34m(\u001b[0m\u001b[0mnp\u001b[0m\u001b[0;34m.\u001b[0m\u001b[0mreshape\u001b[0m\u001b[0;34m(\u001b[0m\u001b[0mx_test\u001b[0m\u001b[0;34m[\u001b[0m\u001b[0midx\u001b[0m\u001b[0;34m]\u001b[0m\u001b[0;34m,\u001b[0m \u001b[0;34m(\u001b[0m\u001b[0;36m28\u001b[0m\u001b[0;34m,\u001b[0m \u001b[0;36m28\u001b[0m\u001b[0;34m)\u001b[0m\u001b[0;34m)\u001b[0m\u001b[0;34m)\u001b[0m\u001b[0;34m\u001b[0m\u001b[0m\n\u001b[1;32m      7\u001b[0m \u001b[0;34m\u001b[0m\u001b[0m\n\u001b[0;32m----> 8\u001b[0;31m \u001b[0;32mprint\u001b[0m\u001b[0;34m(\u001b[0m\u001b[0;34m\"CNN sonucu: %d\"\u001b[0m \u001b[0;34m%\u001b[0m \u001b[0mtestVerisiTahminler\u001b[0m\u001b[0;34m[\u001b[0m\u001b[0midx\u001b[0m\u001b[0;34m]\u001b[0m\u001b[0;34m)\u001b[0m\u001b[0;34m\u001b[0m\u001b[0m\n\u001b[0m\u001b[1;32m      9\u001b[0m \u001b[0;32mprint\u001b[0m\u001b[0;34m(\u001b[0m\u001b[0;34m\"Beklenen: %d\"\u001b[0m \u001b[0;34m%\u001b[0m \u001b[0my_test\u001b[0m\u001b[0;34m[\u001b[0m\u001b[0midx\u001b[0m\u001b[0;34m]\u001b[0m\u001b[0;34m)\u001b[0m\u001b[0;34m\u001b[0m\u001b[0m\n",
            "\u001b[0;31mTypeError\u001b[0m: %d format: a number is required, not numpy.ndarray"
          ]
        },
        {
          "output_type": "display_data",
          "data": {
            "image/png": "[encoded data removed]",
            "text/plain": [
              "<matplotlib.figure.Figure at 0x7ff35607c2d0>"
            ]
          },
          "metadata": {
            "tags": []
          }
        }
      ]
    }
  ]
}